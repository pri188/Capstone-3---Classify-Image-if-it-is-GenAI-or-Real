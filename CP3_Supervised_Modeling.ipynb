{
  "nbformat": 4,
  "nbformat_minor": 0,
  "metadata": {
    "colab": {
      "provenance": [],
      "toc_visible": true
    },
    "kernelspec": {
      "name": "python3",
      "display_name": "Python 3"
    },
    "language_info": {
      "name": "python"
    }
  },
  "cells": [
    {
      "cell_type": "markdown",
      "source": [
        "**Introduction**: In this approach, we will implement an\n",
        "supervised learning strategy to differentiate between GenAI-generated and real images. We will rely on labeled data, our method will leverage clustering and similarity measures to group Real and GenAI images.\n",
        "Approach: We will be treating this as a binary classification problem, where each image is assigend a indicationg Real and GenAI.\n",
        "We will begin with traditional machine Learning Model like Logistic Regression , SVM and Random Forest.\n",
        "Further I plan to work on Deep Learning based approaches like ViTs. Finally the performance of our Models will be evaluated with Confusion Matrix, Classsification Report or Precision Recall Curve.\n"
      ],
      "metadata": {
        "id": "ictHbv4iibN6"
      }
    },
    {
      "cell_type": "markdown",
      "source": [
        "Mount the Google Drive in a Google Colab environment\n",
        "\n"
      ],
      "metadata": {
        "id": "JGYN18Uy9i9G"
      }
    },
    {
      "cell_type": "code",
      "source": [
        "from google.colab import drive\n",
        "drive.mount('/content/drive')"
      ],
      "metadata": {
        "id": "oAM9laqCqQlM",
        "colab": {
          "base_uri": "https://localhost:8080/"
        },
        "outputId": "4ce066ba-3a4e-4d5d-b706-135f797fc0b2"
      },
      "execution_count": 1,
      "outputs": [
        {
          "output_type": "stream",
          "name": "stdout",
          "text": [
            "Mounted at /content/drive\n"
          ]
        }
      ]
    },
    {
      "cell_type": "code",
      "source": [
        "%%capture\n",
        "!pip install torch==2.5.0 torchvision ftfy regex tqdm git+https://github.com/openai/CLIP.git"
      ],
      "metadata": {
        "id": "M0vHM9hgFkbl"
      },
      "execution_count": 2,
      "outputs": []
    },
    {
      "cell_type": "markdown",
      "source": [
        "#Read the embeddings dataframe"
      ],
      "metadata": {
        "id": "NcOXFYBChYSS"
      }
    },
    {
      "cell_type": "code",
      "source": [
        "import pandas as pd\n",
        "import numpy as np\n",
        "import torch\n",
        "\n",
        "def string_to_float_array(s):\n",
        "    s = s.replace('[', '').replace(']', '')\n",
        "    return np.array([float(x) for x in s.split(',')])\n",
        "\n",
        "\n",
        "df = pd.read_csv('drive/MyDrive/colab_notebooks/embeddings.csv')\n",
        "df['embeddings'] = df['embeddings'].apply(string_to_float_array)\n",
        "df.head()"
      ],
      "metadata": {
        "colab": {
          "base_uri": "https://localhost:8080/",
          "height": 206
        },
        "id": "s2Mm12OfgPG4",
        "outputId": "2e03b5ff-17ad-4f8b-d579-19a57d7240b5"
      },
      "execution_count": 3,
      "outputs": [
        {
          "output_type": "execute_result",
          "data": {
            "text/plain": [
              "                                          embeddings  \\\n",
              "0  [0.12522172927856445, 0.17127607762813568, -0....   \n",
              "1  [0.00956397969275713, -0.024535341188311577, -...   \n",
              "2  [-0.014325050637125969, 0.026381907984614372, ...   \n",
              "3  [-0.09597162157297134, 0.10650302469730377, -0...   \n",
              "4  [0.368219792842865, 0.17371228337287903, -0.01...   \n",
              "\n",
              "                         image_name  label  \n",
              "0  354503ce71788b2f7725480f7a96123c      0  \n",
              "1  d59817583d8f5081d293afe840ea3da4      1  \n",
              "2  3d1de42b3f41903ee6f768eb26de95c7      1  \n",
              "3  00becac4c25ad5a0c839e1629bedb899      1  \n",
              "4  0a5bae79ca67e303fe64e0db70565ed1      1  "
            ],
            "text/html": [
              "\n",
              "  <div id=\"df-41ebe3c7-0a4c-4bc8-ba76-69fe89b0b104\" class=\"colab-df-container\">\n",
              "    <div>\n",
              "<style scoped>\n",
              "    .dataframe tbody tr th:only-of-type {\n",
              "        vertical-align: middle;\n",
              "    }\n",
              "\n",
              "    .dataframe tbody tr th {\n",
              "        vertical-align: top;\n",
              "    }\n",
              "\n",
              "    .dataframe thead th {\n",
              "        text-align: right;\n",
              "    }\n",
              "</style>\n",
              "<table border=\"1\" class=\"dataframe\">\n",
              "  <thead>\n",
              "    <tr style=\"text-align: right;\">\n",
              "      <th></th>\n",
              "      <th>embeddings</th>\n",
              "      <th>image_name</th>\n",
              "      <th>label</th>\n",
              "    </tr>\n",
              "  </thead>\n",
              "  <tbody>\n",
              "    <tr>\n",
              "      <th>0</th>\n",
              "      <td>[0.12522172927856445, 0.17127607762813568, -0....</td>\n",
              "      <td>354503ce71788b2f7725480f7a96123c</td>\n",
              "      <td>0</td>\n",
              "    </tr>\n",
              "    <tr>\n",
              "      <th>1</th>\n",
              "      <td>[0.00956397969275713, -0.024535341188311577, -...</td>\n",
              "      <td>d59817583d8f5081d293afe840ea3da4</td>\n",
              "      <td>1</td>\n",
              "    </tr>\n",
              "    <tr>\n",
              "      <th>2</th>\n",
              "      <td>[-0.014325050637125969, 0.026381907984614372, ...</td>\n",
              "      <td>3d1de42b3f41903ee6f768eb26de95c7</td>\n",
              "      <td>1</td>\n",
              "    </tr>\n",
              "    <tr>\n",
              "      <th>3</th>\n",
              "      <td>[-0.09597162157297134, 0.10650302469730377, -0...</td>\n",
              "      <td>00becac4c25ad5a0c839e1629bedb899</td>\n",
              "      <td>1</td>\n",
              "    </tr>\n",
              "    <tr>\n",
              "      <th>4</th>\n",
              "      <td>[0.368219792842865, 0.17371228337287903, -0.01...</td>\n",
              "      <td>0a5bae79ca67e303fe64e0db70565ed1</td>\n",
              "      <td>1</td>\n",
              "    </tr>\n",
              "  </tbody>\n",
              "</table>\n",
              "</div>\n",
              "    <div class=\"colab-df-buttons\">\n",
              "\n",
              "  <div class=\"colab-df-container\">\n",
              "    <button class=\"colab-df-convert\" onclick=\"convertToInteractive('df-41ebe3c7-0a4c-4bc8-ba76-69fe89b0b104')\"\n",
              "            title=\"Convert this dataframe to an interactive table.\"\n",
              "            style=\"display:none;\">\n",
              "\n",
              "  <svg xmlns=\"http://www.w3.org/2000/svg\" height=\"24px\" viewBox=\"0 -960 960 960\">\n",
              "    <path d=\"M120-120v-720h720v720H120Zm60-500h600v-160H180v160Zm220 220h160v-160H400v160Zm0 220h160v-160H400v160ZM180-400h160v-160H180v160Zm440 0h160v-160H620v160ZM180-180h160v-160H180v160Zm440 0h160v-160H620v160Z\"/>\n",
              "  </svg>\n",
              "    </button>\n",
              "\n",
              "  <style>\n",
              "    .colab-df-container {\n",
              "      display:flex;\n",
              "      gap: 12px;\n",
              "    }\n",
              "\n",
              "    .colab-df-convert {\n",
              "      background-color: #E8F0FE;\n",
              "      border: none;\n",
              "      border-radius: 50%;\n",
              "      cursor: pointer;\n",
              "      display: none;\n",
              "      fill: #1967D2;\n",
              "      height: 32px;\n",
              "      padding: 0 0 0 0;\n",
              "      width: 32px;\n",
              "    }\n",
              "\n",
              "    .colab-df-convert:hover {\n",
              "      background-color: #E2EBFA;\n",
              "      box-shadow: 0px 1px 2px rgba(60, 64, 67, 0.3), 0px 1px 3px 1px rgba(60, 64, 67, 0.15);\n",
              "      fill: #174EA6;\n",
              "    }\n",
              "\n",
              "    .colab-df-buttons div {\n",
              "      margin-bottom: 4px;\n",
              "    }\n",
              "\n",
              "    [theme=dark] .colab-df-convert {\n",
              "      background-color: #3B4455;\n",
              "      fill: #D2E3FC;\n",
              "    }\n",
              "\n",
              "    [theme=dark] .colab-df-convert:hover {\n",
              "      background-color: #434B5C;\n",
              "      box-shadow: 0px 1px 3px 1px rgba(0, 0, 0, 0.15);\n",
              "      filter: drop-shadow(0px 1px 2px rgba(0, 0, 0, 0.3));\n",
              "      fill: #FFFFFF;\n",
              "    }\n",
              "  </style>\n",
              "\n",
              "    <script>\n",
              "      const buttonEl =\n",
              "        document.querySelector('#df-41ebe3c7-0a4c-4bc8-ba76-69fe89b0b104 button.colab-df-convert');\n",
              "      buttonEl.style.display =\n",
              "        google.colab.kernel.accessAllowed ? 'block' : 'none';\n",
              "\n",
              "      async function convertToInteractive(key) {\n",
              "        const element = document.querySelector('#df-41ebe3c7-0a4c-4bc8-ba76-69fe89b0b104');\n",
              "        const dataTable =\n",
              "          await google.colab.kernel.invokeFunction('convertToInteractive',\n",
              "                                                    [key], {});\n",
              "        if (!dataTable) return;\n",
              "\n",
              "        const docLinkHtml = 'Like what you see? Visit the ' +\n",
              "          '<a target=\"_blank\" href=https://colab.research.google.com/notebooks/data_table.ipynb>data table notebook</a>'\n",
              "          + ' to learn more about interactive tables.';\n",
              "        element.innerHTML = '';\n",
              "        dataTable['output_type'] = 'display_data';\n",
              "        await google.colab.output.renderOutput(dataTable, element);\n",
              "        const docLink = document.createElement('div');\n",
              "        docLink.innerHTML = docLinkHtml;\n",
              "        element.appendChild(docLink);\n",
              "      }\n",
              "    </script>\n",
              "  </div>\n",
              "\n",
              "\n",
              "<div id=\"df-da0a50e1-edd6-4dc0-affb-bd0830295b9b\">\n",
              "  <button class=\"colab-df-quickchart\" onclick=\"quickchart('df-da0a50e1-edd6-4dc0-affb-bd0830295b9b')\"\n",
              "            title=\"Suggest charts\"\n",
              "            style=\"display:none;\">\n",
              "\n",
              "<svg xmlns=\"http://www.w3.org/2000/svg\" height=\"24px\"viewBox=\"0 0 24 24\"\n",
              "     width=\"24px\">\n",
              "    <g>\n",
              "        <path d=\"M19 3H5c-1.1 0-2 .9-2 2v14c0 1.1.9 2 2 2h14c1.1 0 2-.9 2-2V5c0-1.1-.9-2-2-2zM9 17H7v-7h2v7zm4 0h-2V7h2v10zm4 0h-2v-4h2v4z\"/>\n",
              "    </g>\n",
              "</svg>\n",
              "  </button>\n",
              "\n",
              "<style>\n",
              "  .colab-df-quickchart {\n",
              "      --bg-color: #E8F0FE;\n",
              "      --fill-color: #1967D2;\n",
              "      --hover-bg-color: #E2EBFA;\n",
              "      --hover-fill-color: #174EA6;\n",
              "      --disabled-fill-color: #AAA;\n",
              "      --disabled-bg-color: #DDD;\n",
              "  }\n",
              "\n",
              "  [theme=dark] .colab-df-quickchart {\n",
              "      --bg-color: #3B4455;\n",
              "      --fill-color: #D2E3FC;\n",
              "      --hover-bg-color: #434B5C;\n",
              "      --hover-fill-color: #FFFFFF;\n",
              "      --disabled-bg-color: #3B4455;\n",
              "      --disabled-fill-color: #666;\n",
              "  }\n",
              "\n",
              "  .colab-df-quickchart {\n",
              "    background-color: var(--bg-color);\n",
              "    border: none;\n",
              "    border-radius: 50%;\n",
              "    cursor: pointer;\n",
              "    display: none;\n",
              "    fill: var(--fill-color);\n",
              "    height: 32px;\n",
              "    padding: 0;\n",
              "    width: 32px;\n",
              "  }\n",
              "\n",
              "  .colab-df-quickchart:hover {\n",
              "    background-color: var(--hover-bg-color);\n",
              "    box-shadow: 0 1px 2px rgba(60, 64, 67, 0.3), 0 1px 3px 1px rgba(60, 64, 67, 0.15);\n",
              "    fill: var(--button-hover-fill-color);\n",
              "  }\n",
              "\n",
              "  .colab-df-quickchart-complete:disabled,\n",
              "  .colab-df-quickchart-complete:disabled:hover {\n",
              "    background-color: var(--disabled-bg-color);\n",
              "    fill: var(--disabled-fill-color);\n",
              "    box-shadow: none;\n",
              "  }\n",
              "\n",
              "  .colab-df-spinner {\n",
              "    border: 2px solid var(--fill-color);\n",
              "    border-color: transparent;\n",
              "    border-bottom-color: var(--fill-color);\n",
              "    animation:\n",
              "      spin 1s steps(1) infinite;\n",
              "  }\n",
              "\n",
              "  @keyframes spin {\n",
              "    0% {\n",
              "      border-color: transparent;\n",
              "      border-bottom-color: var(--fill-color);\n",
              "      border-left-color: var(--fill-color);\n",
              "    }\n",
              "    20% {\n",
              "      border-color: transparent;\n",
              "      border-left-color: var(--fill-color);\n",
              "      border-top-color: var(--fill-color);\n",
              "    }\n",
              "    30% {\n",
              "      border-color: transparent;\n",
              "      border-left-color: var(--fill-color);\n",
              "      border-top-color: var(--fill-color);\n",
              "      border-right-color: var(--fill-color);\n",
              "    }\n",
              "    40% {\n",
              "      border-color: transparent;\n",
              "      border-right-color: var(--fill-color);\n",
              "      border-top-color: var(--fill-color);\n",
              "    }\n",
              "    60% {\n",
              "      border-color: transparent;\n",
              "      border-right-color: var(--fill-color);\n",
              "    }\n",
              "    80% {\n",
              "      border-color: transparent;\n",
              "      border-right-color: var(--fill-color);\n",
              "      border-bottom-color: var(--fill-color);\n",
              "    }\n",
              "    90% {\n",
              "      border-color: transparent;\n",
              "      border-bottom-color: var(--fill-color);\n",
              "    }\n",
              "  }\n",
              "</style>\n",
              "\n",
              "  <script>\n",
              "    async function quickchart(key) {\n",
              "      const quickchartButtonEl =\n",
              "        document.querySelector('#' + key + ' button');\n",
              "      quickchartButtonEl.disabled = true;  // To prevent multiple clicks.\n",
              "      quickchartButtonEl.classList.add('colab-df-spinner');\n",
              "      try {\n",
              "        const charts = await google.colab.kernel.invokeFunction(\n",
              "            'suggestCharts', [key], {});\n",
              "      } catch (error) {\n",
              "        console.error('Error during call to suggestCharts:', error);\n",
              "      }\n",
              "      quickchartButtonEl.classList.remove('colab-df-spinner');\n",
              "      quickchartButtonEl.classList.add('colab-df-quickchart-complete');\n",
              "    }\n",
              "    (() => {\n",
              "      let quickchartButtonEl =\n",
              "        document.querySelector('#df-da0a50e1-edd6-4dc0-affb-bd0830295b9b button');\n",
              "      quickchartButtonEl.style.display =\n",
              "        google.colab.kernel.accessAllowed ? 'block' : 'none';\n",
              "    })();\n",
              "  </script>\n",
              "</div>\n",
              "\n",
              "    </div>\n",
              "  </div>\n"
            ],
            "application/vnd.google.colaboratory.intrinsic+json": {
              "type": "dataframe",
              "variable_name": "df",
              "summary": "{\n  \"name\": \"df\",\n  \"rows\": 3088,\n  \"fields\": [\n    {\n      \"column\": \"embeddings\",\n      \"properties\": {\n        \"dtype\": \"object\",\n        \"semantic_type\": \"\",\n        \"description\": \"\"\n      }\n    },\n    {\n      \"column\": \"image_name\",\n      \"properties\": {\n        \"dtype\": \"string\",\n        \"num_unique_values\": 3077,\n        \"samples\": [\n          \"00e8be069bc851de9314674e36fe8fc1\",\n          \"8288e6d83dc649405fc20c2a1ea93bed\",\n          \"71fd4ccda5f3f6dde659bc6c38933501\"\n        ],\n        \"semantic_type\": \"\",\n        \"description\": \"\"\n      }\n    },\n    {\n      \"column\": \"label\",\n      \"properties\": {\n        \"dtype\": \"number\",\n        \"std\": 0,\n        \"min\": 0,\n        \"max\": 1,\n        \"num_unique_values\": 2,\n        \"samples\": [\n          1,\n          0\n        ],\n        \"semantic_type\": \"\",\n        \"description\": \"\"\n      }\n    }\n  ]\n}"
            }
          },
          "metadata": {},
          "execution_count": 3
        }
      ]
    },
    {
      "cell_type": "markdown",
      "source": [
        "# Train three Supervised models and generate Classification Matrix and ROC curve."
      ],
      "metadata": {
        "id": "VTbfVf6Cr5K0"
      }
    },
    {
      "cell_type": "code",
      "source": [
        "import numpy as np\n",
        "import pandas as pd\n",
        "import matplotlib.pyplot as plt\n",
        "import seaborn as sns\n",
        "from sklearn.model_selection import train_test_split\n",
        "from sklearn.preprocessing import StandardScaler\n",
        "from sklearn.linear_model import LogisticRegression\n",
        "from sklearn.svm import SVC\n",
        "from sklearn.ensemble import RandomForestClassifier\n",
        "from sklearn.metrics import (\n",
        "    confusion_matrix, classification_report, precision_recall_curve, roc_auc_score\n",
        ")\n",
        "\n",
        "#Convert embeddings from list format to NumPy array\n",
        "embeddings = np.stack(df['embeddings'].values)\n",
        "\n",
        "# Extract labels\n",
        "labels = df['label'].values\n",
        "\n",
        "# Train-test split\n",
        "X_train, X_test, y_train, y_test = train_test_split(embeddings, labels, test_size=0.3, random_state=42, stratify=labels)\n",
        "print(len(X_train), len(X_test), len(y_train), len(y_test))\n",
        "\n",
        "# Lets create a dictionary to Define and store our models\n",
        "models = {\n",
        "    \"Logistic Regression\": LogisticRegression(max_iter=1000),\n",
        "    \"Support Vector Machine (SVM)\": SVC(probability=True),\n",
        "    \"Random Forest\": RandomForestClassifier(n_estimators=100, random_state=42),\n",
        "\n",
        "}\n",
        "\n",
        "# Train and evaluate models\n",
        "# Create a dictionary to store our results\n",
        "results = {}\n",
        "for name, model in models.items():\n",
        "    print(f\"\\nTraining {name}...\")\n",
        "    model.fit(X_train, y_train) # Here training the model on the training data\n",
        "    y_pred = model.predict(X_test) # Prediuct the labels on test data\n",
        "    y_prob = model.predict_proba(X_test)[:, 1] #Get the probablity score on the GenAI(1) class\n",
        "\n",
        "    # Compute evaluation metrics\n",
        "    cm = confusion_matrix(y_test, y_pred) #compute the confusion Matrix using y_test, y_pred\n",
        "    report = classification_report(y_test, y_pred, digits=4)\n",
        "    auc_score = roc_auc_score(y_test, y_prob)\n",
        "\n",
        "    # Store results\n",
        "    results[name] = {\n",
        "        \"model\": model,\n",
        "        \"confusion_matrix\": cm,\n",
        "        \"classification_report\": report,\n",
        "        \"roc_auc\": auc_score\n",
        "    }\n",
        "\n",
        "    print(f\"\\n{name} - Classification Report:\\n{report}\")\n",
        "    print(f\"{name} - ROC AUC Score: {auc_score:.4f}\") #(Receiver Operating Characteristic Area Under the Curve) )\n"
      ],
      "metadata": {
        "colab": {
          "base_uri": "https://localhost:8080/"
        },
        "id": "NQskALWPkjLq",
        "outputId": "aa00ba04-c6ea-41fb-c52b-84952aad1a46"
      },
      "execution_count": 10,
      "outputs": [
        {
          "output_type": "stream",
          "name": "stdout",
          "text": [
            "2161 927 2161 927\n",
            "\n",
            "Training Logistic Regression...\n",
            "\n",
            "Logistic Regression - Classification Report:\n",
            "              precision    recall  f1-score   support\n",
            "\n",
            "           0     0.9209    0.9332    0.9270       524\n",
            "           1     0.9116    0.8958    0.9036       403\n",
            "\n",
            "    accuracy                         0.9169       927\n",
            "   macro avg     0.9163    0.9145    0.9153       927\n",
            "weighted avg     0.9169    0.9169    0.9168       927\n",
            "\n",
            "Logistic Regression - ROC AUC Score: 0.9640\n",
            "\n",
            "Training Support Vector Machine (SVM)...\n",
            "\n",
            "Support Vector Machine (SVM) - Classification Report:\n",
            "              precision    recall  f1-score   support\n",
            "\n",
            "           0     0.9222    0.9504    0.9361       524\n",
            "           1     0.9328    0.8958    0.9139       403\n",
            "\n",
            "    accuracy                         0.9266       927\n",
            "   macro avg     0.9275    0.9231    0.9250       927\n",
            "weighted avg     0.9268    0.9266    0.9265       927\n",
            "\n",
            "Support Vector Machine (SVM) - ROC AUC Score: 0.9716\n",
            "\n",
            "Training Random Forest...\n",
            "\n",
            "Random Forest - Classification Report:\n",
            "              precision    recall  f1-score   support\n",
            "\n",
            "           0     0.8627    0.9351    0.8974       524\n",
            "           1     0.9053    0.8065    0.8530       403\n",
            "\n",
            "    accuracy                         0.8792       927\n",
            "   macro avg     0.8840    0.8708    0.8752       927\n",
            "weighted avg     0.8812    0.8792    0.8781       927\n",
            "\n",
            "Random Forest - ROC AUC Score: 0.9497\n"
          ]
        }
      ]
    },
    {
      "cell_type": "markdown",
      "source": [
        "Summary from the Precision Recall and f1 score for three Models:\n",
        "1. Overall the Logictic Regression and SVM seem to perform with a high ROC AUC curve values of 0.9640 and 0.9716 respectively."
      ],
      "metadata": {
        "id": "IKm3aigEg8sB"
      }
    },
    {
      "cell_type": "code",
      "source": [
        "\n",
        "# Plot Precision-Recall Curve for best models\n",
        "plt.figure(figsize=(8, 6))\n",
        "for name, result in results.items():\n",
        "    y_prob = result[\"model\"].predict_proba(X_test)[:, 1]\n",
        "    precision, recall, _ = precision_recall_curve(y_test, y_prob)\n",
        "    plt.plot(recall, precision, label=name)\n",
        "\n",
        "plt.xlabel(\"Recall\")\n",
        "plt.ylabel(\"Precision\")\n",
        "plt.title(\"Precision-Recall Curve\")\n",
        "plt.legend()\n",
        "plt.grid()\n",
        "plt.show()"
      ],
      "metadata": {
        "colab": {
          "base_uri": "https://localhost:8080/",
          "height": 564
        },
        "id": "GZ6kORKXgrGU",
        "outputId": "5954a379-7864-4812-aa92-b8da44e3fef8"
      },
      "execution_count": 11,
      "outputs": [
        {
          "output_type": "display_data",
          "data": {
            "text/plain": [
              "<Figure size 800x600 with 1 Axes>"
            ],
            "image/png": "[encoded data removed]"
          },
          "metadata": {}
        }
      ]
    },
    {
      "cell_type": "code",
      "source": [
        "# Confusion Matrix Heatmap for the best model (Change key to desired model)\n",
        "best_model = \"Support Vector Machine (SVM)\"  # Change to the best-performing model\n",
        "sns.heatmap(results[best_model][\"confusion_matrix\"], annot=True, fmt=\"d\", cmap=\"Blues\")\n",
        "plt.xlabel(\"Predicted Label\")\n",
        "plt.ylabel(\"True Label\")\n",
        "plt.title(f\"Confusion Matrix - {best_model}\")\n",
        "plt.show()"
      ],
      "metadata": {
        "colab": {
          "base_uri": "https://localhost:8080/",
          "height": 472
        },
        "id": "v5PvPyMogkKU",
        "outputId": "0affedcd-503c-4abd-a0a0-424370d20fb3"
      },
      "execution_count": 12,
      "outputs": [
        {
          "output_type": "display_data",
          "data": {
            "text/plain": [
              "<Figure size 640x480 with 2 Axes>"
            ],
            "image/png": "[encoded data removed]"
          },
          "metadata": {}
        }
      ]
    },
    {
      "cell_type": "markdown",
      "source": [
        "Summary from above Heatmap\n",
        "1. A high number of True Negatives (498) indicates that the model is very good at correctly identifying real images.\n",
        "2. A high number of True Positives (361) suggests that the model is fairly effective at identifying AI-generated images."
      ],
      "metadata": {
        "id": "0eXaaoWT-rrH"
      }
    }
  ]
}